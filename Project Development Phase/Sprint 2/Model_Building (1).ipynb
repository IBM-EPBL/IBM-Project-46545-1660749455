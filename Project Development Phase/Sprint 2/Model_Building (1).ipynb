{
 "cells": [
  {
   "cell_type": "code",
   "execution_count": 1,
   "id": "dd2520fd",
   "metadata": {},
   "outputs": [],
   "source": [
    "import pandas as pd\n",
    "import numpy as np\n",
    "import matplotlib.pyplot as plt"
   ]
  },
  {
   "cell_type": "code",
   "execution_count": 2,
   "id": "0160d608",
   "metadata": {},
   "outputs": [],
   "source": [
    "data=pd.read_excel(r'C:\\Users\\user\\Crude Oil\\Crude Oil Prices Daily.xlsx')"
   ]
  },
  {
   "cell_type": "code",
   "execution_count": 3,
   "id": "1cfaf57b",
   "metadata": {},
   "outputs": [
    {
     "data": {
      "text/plain": [
       "Date             False\n",
       "Closing Value     True\n",
       "dtype: bool"
      ]
     },
     "execution_count": 3,
     "metadata": {},
     "output_type": "execute_result"
    }
   ],
   "source": [
    "data.isnull().any()"
   ]
  },
  {
   "cell_type": "code",
   "execution_count": 4,
   "id": "b2c7c1ae",
   "metadata": {},
   "outputs": [
    {
     "data": {
      "text/plain": [
       "Date             0\n",
       "Closing Value    7\n",
       "dtype: int64"
      ]
     },
     "execution_count": 4,
     "metadata": {},
     "output_type": "execute_result"
    }
   ],
   "source": [
    "data.isnull().sum()"
   ]
  },
  {
   "cell_type": "code",
   "execution_count": 5,
   "id": "be2e417b",
   "metadata": {},
   "outputs": [],
   "source": [
    "data.dropna(axis=0,inplace=True)"
   ]
  },
  {
   "cell_type": "code",
   "execution_count": 6,
   "id": "6125b7d6",
   "metadata": {},
   "outputs": [
    {
     "data": {
      "text/plain": [
       "Date             0\n",
       "Closing Value    0\n",
       "dtype: int64"
      ]
     },
     "execution_count": 6,
     "metadata": {},
     "output_type": "execute_result"
    }
   ],
   "source": [
    "data.isnull().sum()"
   ]
  },
  {
   "cell_type": "code",
   "execution_count": 7,
   "id": "bb1c5947",
   "metadata": {},
   "outputs": [
    {
     "data": {
      "text/plain": [
       "0       25.56\n",
       "1       26.00\n",
       "2       26.53\n",
       "3       25.85\n",
       "4       25.87\n",
       "        ...  \n",
       "8211    73.89\n",
       "8212    74.19\n",
       "8213    73.05\n",
       "8214    73.78\n",
       "8215    73.93\n",
       "Name: Closing Value, Length: 8216, dtype: float64"
      ]
     },
     "execution_count": 7,
     "metadata": {},
     "output_type": "execute_result"
    }
   ],
   "source": [
    "Data_oil=data.reset_index()['Closing Value']\n",
    "Data_oil"
   ]
  },
  {
   "cell_type": "code",
   "execution_count": 8,
   "id": "96e4707e",
   "metadata": {},
   "outputs": [],
   "source": [
    "from sklearn.preprocessing import MinMaxScaler\n",
    "scaler=MinMaxScaler(feature_range=(0,1))\n",
    "Data_oil=scaler.fit_transform(np.array(Data_oil).reshape(-1,1))"
   ]
  },
  {
   "cell_type": "code",
   "execution_count": 9,
   "id": "cd5d47a1",
   "metadata": {},
   "outputs": [
    {
     "data": {
      "text/plain": [
       "array([[0.11335703],\n",
       "       [0.11661484],\n",
       "       [0.12053902],\n",
       "       ...,\n",
       "       [0.46497853],\n",
       "       [0.47038353],\n",
       "       [0.47149415]])"
      ]
     },
     "execution_count": 9,
     "metadata": {},
     "output_type": "execute_result"
    }
   ],
   "source": [
    "Data_oil"
   ]
  },
  {
   "cell_type": "code",
   "execution_count": 10,
   "id": "daa8262f",
   "metadata": {},
   "outputs": [
    {
     "data": {
      "text/plain": [
       "[<matplotlib.lines.Line2D at 0x2663025ed60>]"
      ]
     },
     "execution_count": 10,
     "metadata": {},
     "output_type": "execute_result"
    },
    {
     "data": {
      "image/png": "[encoded data removed]",
      "text/plain": [
       "<Figure size 432x288 with 1 Axes>"
      ]
     },
     "metadata": {
      "needs_background": "light"
     },
     "output_type": "display_data"
    }
   ],
   "source": [
    "plt.plot(Data_oil)"
   ]
  },
  {
   "cell_type": "code",
   "execution_count": 11,
   "id": "1ad2ced9",
   "metadata": {},
   "outputs": [],
   "source": [
    "training_size=int(len(Data_oil)*0.65)\n",
    "test_size=len(Data_oil)-training_size\n",
    "train_data,test_data=Data_oil[0:training_size,:],Data_oil[training_size:len(Data_oil),:1]"
   ]
  },
  {
   "cell_type": "code",
   "execution_count": 12,
   "id": "c6e3f0bd",
   "metadata": {},
   "outputs": [
    {
     "data": {
      "text/plain": [
       "(5340, 2876)"
      ]
     },
     "execution_count": 12,
     "metadata": {},
     "output_type": "execute_result"
    }
   ],
   "source": [
    "training_size,test_size"
   ]
  },
  {
   "cell_type": "code",
   "execution_count": 13,
   "id": "284bad9d",
   "metadata": {},
   "outputs": [
    {
     "data": {
      "text/plain": [
       "(5340, 1)"
      ]
     },
     "execution_count": 13,
     "metadata": {},
     "output_type": "execute_result"
    }
   ],
   "source": [
    "train_data.shape"
   ]
  },
  {
   "cell_type": "code",
   "execution_count": 14,
   "id": "ef5f94ec",
   "metadata": {},
   "outputs": [],
   "source": [
    "def create_dataset(dataset,time_step=1):\n",
    "  dataX,dataY=[],[]\n",
    "  for i in range(len(dataset)-time_step-1):\n",
    "    a=dataset[i:(i+time_step),0]\n",
    "    dataX.append(a)\n",
    "    dataY.append(dataset[i+time_step,0])\n",
    "  return np.array(dataX),np.array(dataY)"
   ]
  },
  {
   "cell_type": "code",
   "execution_count": 15,
   "id": "ef385e21",
   "metadata": {},
   "outputs": [],
   "source": [
    "time_step=10\n",
    "x_train,y_train=create_dataset(train_data,time_step)\n",
    "x_test,y_test=create_dataset(test_data,time_step)"
   ]
  },
  {
   "cell_type": "code",
   "execution_count": 16,
   "id": "33a2bc38",
   "metadata": {},
   "outputs": [
    {
     "name": "stdout",
     "output_type": "stream",
     "text": [
      "(5329, 10)\n",
      "(5329,)\n"
     ]
    },
    {
     "data": {
      "text/plain": [
       "(None, None)"
      ]
     },
     "execution_count": 16,
     "metadata": {},
     "output_type": "execute_result"
    }
   ],
   "source": [
    "print(x_train.shape),print(y_train.shape)"
   ]
  },
  {
   "cell_type": "code",
   "execution_count": 17,
   "id": "53dda579",
   "metadata": {},
   "outputs": [
    {
     "name": "stdout",
     "output_type": "stream",
     "text": [
      "(2865, 10)\n",
      "(2865,)\n"
     ]
    },
    {
     "data": {
      "text/plain": [
       "(None, None)"
      ]
     },
     "execution_count": 17,
     "metadata": {},
     "output_type": "execute_result"
    }
   ],
   "source": [
    "print(x_test.shape),print(y_test.shape)"
   ]
  },
  {
   "cell_type": "code",
   "execution_count": 18,
   "id": "b4093116",
   "metadata": {},
   "outputs": [
    {
     "data": {
      "text/plain": [
       "array([[0.11335703, 0.11661484, 0.12053902, ..., 0.10980305, 0.1089886 ,\n",
       "        0.11054346],\n",
       "       [0.11661484, 0.12053902, 0.11550422, ..., 0.1089886 , 0.11054346,\n",
       "        0.10165852],\n",
       "       [0.12053902, 0.11550422, 0.1156523 , ..., 0.11054346, 0.10165852,\n",
       "        0.09906708],\n",
       "       ...,\n",
       "       [0.36731823, 0.35176958, 0.36080261, ..., 0.36391234, 0.37042796,\n",
       "        0.37042796],\n",
       "       [0.35176958, 0.36080261, 0.35354657, ..., 0.37042796, 0.37042796,\n",
       "        0.37879461],\n",
       "       [0.36080261, 0.35354657, 0.35295424, ..., 0.37042796, 0.37879461,\n",
       "        0.37916482]])"
      ]
     },
     "execution_count": 18,
     "metadata": {},
     "output_type": "execute_result"
    }
   ],
   "source": [
    "x_train"
   ]
  },
  {
   "cell_type": "code",
   "execution_count": 19,
   "id": "120498d0",
   "metadata": {},
   "outputs": [],
   "source": [
    "x_train=x_train.reshape(x_train.shape[0],x_train.shape[1],1)\n",
    "x_test=x_test.reshape(x_test.shape[0],x_test.shape[1],1)"
   ]
  },
  {
   "cell_type": "code",
   "execution_count": 20,
   "id": "8f5cf57f",
   "metadata": {},
   "outputs": [],
   "source": [
    "from tensorflow.keras.models import Sequential\n",
    "from tensorflow.keras.layers import Dense\n",
    "from tensorflow.keras.layers import LSTM"
   ]
  },
  {
   "cell_type": "code",
   "execution_count": 21,
   "id": "09a13b30",
   "metadata": {},
   "outputs": [],
   "source": [
    "model=Sequential()"
   ]
  },
  {
   "cell_type": "code",
   "execution_count": 22,
   "id": "73bcc7d8",
   "metadata": {},
   "outputs": [],
   "source": [
    "model.add(LSTM(50,return_sequences=True,input_shape=(10,1)))\n",
    "model.add(LSTM(50,return_sequences=True))\n",
    "model.add(LSTM(50))"
   ]
  },
  {
   "cell_type": "code",
   "execution_count": 23,
   "id": "7f5ff8bd",
   "metadata": {},
   "outputs": [],
   "source": [
    "model.add(Dense(1))"
   ]
  },
  {
   "cell_type": "code",
   "execution_count": 24,
   "id": "d8957bed",
   "metadata": {},
   "outputs": [
    {
     "name": "stdout",
     "output_type": "stream",
     "text": [
      "Model: \"sequential\"\n",
      "_________________________________________________________________\n",
      " Layer (type)                Output Shape              Param #   \n",
      "=================================================================\n",
      " lstm (LSTM)                 (None, 10, 50)            10400     \n",
      "                                                                 \n",
      " lstm_1 (LSTM)               (None, 10, 50)            20200     \n",
      "                                                                 \n",
      " lstm_2 (LSTM)               (None, 50)                20200     \n",
      "                                                                 \n",
      " dense (Dense)               (None, 1)                 51        \n",
      "                                                                 \n",
      "=================================================================\n",
      "Total params: 50,851\n",
      "Trainable params: 50,851\n",
      "Non-trainable params: 0\n",
      "_________________________________________________________________\n"
     ]
    }
   ],
   "source": [
    "model.summary()"
   ]
  },
  {
   "cell_type": "code",
   "execution_count": 25,
   "id": "23c4bac8",
   "metadata": {},
   "outputs": [],
   "source": [
    "model.compile(loss='mean_squared_error',optimizer='adam')"
   ]
  },
  {
   "cell_type": "code",
   "execution_count": 26,
   "id": "c18c9afb",
   "metadata": {},
   "outputs": [
    {
     "name": "stdout",
     "output_type": "stream",
     "text": [
      "Epoch 1/3\n",
      "84/84 [==============================] - 24s 92ms/step - loss: 0.0020 - val_loss: 0.0017\n",
      "Epoch 2/3\n",
      "84/84 [==============================] - 3s 32ms/step - loss: 1.3186e-04 - val_loss: 8.2327e-04\n",
      "Epoch 3/3\n",
      "84/84 [==============================] - 3s 32ms/step - loss: 1.2517e-04 - val_loss: 7.9275e-04\n"
     ]
    },
    {
     "data": {
      "text/plain": [
       "<keras.callbacks.History at 0x2663b552100>"
      ]
     },
     "execution_count": 26,
     "metadata": {},
     "output_type": "execute_result"
    }
   ],
   "source": [
    "model.fit(x_train,y_train,validation_data=(x_test,y_test),epochs=3,batch_size=64,verbose=1)"
   ]
  },
  {
   "cell_type": "code",
   "execution_count": 27,
   "id": "8f0e8424",
   "metadata": {},
   "outputs": [
    {
     "data": {
      "text/plain": [
       "29.347830443269938"
      ]
     },
     "execution_count": 27,
     "metadata": {},
     "output_type": "execute_result"
    }
   ],
   "source": [
    "##Transformback to original form\n",
    "train_predict=scaler.inverse_transform(train_data) \n",
    "test_predict=scaler.inverse_transform(test_data)\n",
    "### Calculate RMSE performance metrics\n",
    "import math \n",
    "from sklearn.metrics import mean_squared_error\n",
    "math.sqrt(mean_squared_error(train_data,train_predict))"
   ]
  },
  {
   "cell_type": "code",
   "execution_count": 28,
   "id": "f2c1e58e",
   "metadata": {},
   "outputs": [],
   "source": [
    "from tensorflow.keras.models import load_model"
   ]
  },
  {
   "cell_type": "code",
   "execution_count": 29,
   "id": "8818ade1",
   "metadata": {},
   "outputs": [],
   "source": [
    "model.save(\"crude_oil.h5\")"
   ]
  },
  {
   "cell_type": "code",
   "execution_count": 30,
   "id": "230d50cb",
   "metadata": {},
   "outputs": [
    {
     "data": {
      "image/png": "[encoded data removed]",
      "text/plain": [
       "<Figure size 432x288 with 1 Axes>"
      ]
     },
     "metadata": {
      "needs_background": "light"
     },
     "output_type": "display_data"
    }
   ],
   "source": [
    "### Plotting\n",
    "look_back=10\n",
    "trainpredictPlot = np.empty_like(Data_oil)\n",
    "trainpredictPlot[:, :]= np.nan\n",
    "trainpredictPlot[look_back:len(train_predict)+look_back, :] = train_predict\n",
    "# shift test predictions for plotting\n",
    "testPredictplot = np.empty_like(Data_oil)\n",
    "testPredictplot[:,: ] = np.nan\n",
    "testPredictplot[look_back:len(test_predict)+look_back, :] = test_predict\n",
    "# plot baseline and predictions\n",
    "plt.plot(scaler.inverse_transform(Data_oil))\n",
    "plt.show()"
   ]
  },
  {
   "cell_type": "code",
   "execution_count": 31,
   "id": "3f089081",
   "metadata": {},
   "outputs": [
    {
     "data": {
      "text/plain": [
       "2876"
      ]
     },
     "execution_count": 31,
     "metadata": {},
     "output_type": "execute_result"
    }
   ],
   "source": [
    "len(test_data)"
   ]
  },
  {
   "cell_type": "code",
   "execution_count": 32,
   "id": "e54a53a6",
   "metadata": {},
   "outputs": [
    {
     "data": {
      "text/plain": [
       "(1, 10)"
      ]
     },
     "execution_count": 32,
     "metadata": {},
     "output_type": "execute_result"
    }
   ],
   "source": [
    "x_input=test_data[2866:].reshape(1,-1)\n",
    "x_input.shape"
   ]
  },
  {
   "cell_type": "code",
   "execution_count": 33,
   "id": "a20520ad",
   "metadata": {},
   "outputs": [],
   "source": [
    "temp_input=list(x_input) \n",
    "temp_input=temp_input[0].tolist()"
   ]
  },
  {
   "cell_type": "code",
   "execution_count": 34,
   "id": "d97c011b",
   "metadata": {},
   "outputs": [
    {
     "data": {
      "text/plain": [
       "[0.44172960165852215,\n",
       " 0.48111950244335855,\n",
       " 0.49726047682511476,\n",
       " 0.4679401747371539,\n",
       " 0.4729749740855915,\n",
       " 0.47119798608026064,\n",
       " 0.47341922108692425,\n",
       " 0.4649785280616022,\n",
       " 0.4703835332444839,\n",
       " 0.47149415074781587]"
      ]
     },
     "execution_count": 34,
     "metadata": {},
     "output_type": "execute_result"
    }
   ],
   "source": [
    "temp_input"
   ]
  },
  {
   "cell_type": "code",
   "execution_count": 35,
   "id": "2b13465e",
   "metadata": {},
   "outputs": [
    {
     "name": "stdout",
     "output_type": "stream",
     "text": [
      "[0.4806168]\n",
      "11\n",
      "1 day input [0.4811195  0.49726048 0.46794017 0.47297497 0.47119799 0.47341922\n",
      " 0.46497853 0.47038353 0.47149415 0.48061681]\n",
      "1 day output [[0.48477122]]\n",
      "2 day input [0.49726048 0.46794017 0.47297497 0.47119799 0.47341922 0.46497853\n",
      " 0.47038353 0.47149415 0.48061681 0.48477122]\n",
      "2 day output [[0.48363373]]\n",
      "3 day input [0.46794017 0.47297497 0.47119799 0.47341922 0.46497853 0.47038353\n",
      " 0.47149415 0.48061681 0.48477122 0.48363373]\n",
      "3 day output [[0.48064986]]\n",
      "4 day input [0.47297497 0.47119799 0.47341922 0.46497853 0.47038353 0.47149415\n",
      " 0.48061681 0.48477122 0.48363373 0.48064986]\n",
      "4 day output [[0.4820325]]\n",
      "5 day input [0.47119799 0.47341922 0.46497853 0.47038353 0.47149415 0.48061681\n",
      " 0.48477122 0.48363373 0.48064986 0.48203251]\n",
      "5 day output [[0.48296097]]\n",
      "6 day input [0.47341922 0.46497853 0.47038353 0.47149415 0.48061681 0.48477122\n",
      " 0.48363373 0.48064986 0.48203251 0.48296097]\n",
      "6 day output [[0.4843425]]\n",
      "7 day input [0.46497853 0.47038353 0.47149415 0.48061681 0.48477122 0.48363373\n",
      " 0.48064986 0.48203251 0.48296097 0.48434249]\n",
      "7 day output [[0.48560047]]\n",
      "8 day input [0.47038353 0.47149415 0.48061681 0.48477122 0.48363373 0.48064986\n",
      " 0.48203251 0.48296097 0.48434249 0.48560047]\n",
      "8 day output [[0.4881501]]\n",
      "9 day input [0.47149415 0.48061681 0.48477122 0.48363373 0.48064986 0.48203251\n",
      " 0.48296097 0.48434249 0.48560047 0.48815009]\n",
      "9 day output [[0.4900694]]\n"
     ]
    }
   ],
   "source": [
    "lst_output=[]\n",
    "n_steps=10\n",
    "i=0\n",
    "while(i<10):\n",
    "    if(len(temp_input)>10):\n",
    "#print(temp_input)\n",
    "       x_input=np.array(temp_input[1:]) \n",
    "       print(\"{} day input {}\".format(i,x_input))\n",
    "       x_input=x_input.reshape(1,-1)\n",
    "       x_input = x_input.reshape((1, n_steps, 1)) #print(x_input)\n",
    "       yhat = model.predict(x_input, verbose=0)\n",
    "       print(\"{} day output {}\".format(i,yhat))\n",
    "       temp_input.extend(yhat[0].tolist())\n",
    "       temp_input=temp_input[1:] #print(temp_input)\n",
    "       lst_output.extend(yhat.tolist())\n",
    "       i=i+1\n",
    "    else:\n",
    "       x_input = x_input.reshape((1, n_steps,1))\n",
    "       yhat = model.predict(x_input, verbose=0)\n",
    "       print(yhat[0])\n",
    "       temp_input.extend(yhat[0].tolist()) \n",
    "       print(len(temp_input))\n",
    "       lst_output.extend(yhat.tolist())\n",
    "       i=i+1"
   ]
  },
  {
   "cell_type": "code",
   "execution_count": 36,
   "id": "f4fcc19c",
   "metadata": {},
   "outputs": [
    {
     "data": {
      "text/plain": [
       "[]"
      ]
     },
     "execution_count": 36,
     "metadata": {},
     "output_type": "execute_result"
    },
    {
     "data": {
      "image/png": "[encoded data removed]",
      "text/plain": [
       "<Figure size 432x288 with 1 Axes>"
      ]
     },
     "metadata": {
      "needs_background": "light"
     },
     "output_type": "display_data"
    }
   ],
   "source": [
    "day_new=np.arange(1,11) \n",
    "day_pred=np.arange(11,21)\n",
    "len(Data_oil)\n",
    "plt.plot(day_new, scaler.inverse_transform(Data_oil[8206:])) \n",
    "plt.plot(day_pred, scaler.inverse_transform(lst_output))\n",
    "[]"
   ]
  },
  {
   "cell_type": "code",
   "execution_count": 37,
   "id": "8c5e24b7",
   "metadata": {},
   "outputs": [
    {
     "data": {
      "text/plain": [
       "[<matplotlib.lines.Line2D at 0x26646454280>]"
      ]
     },
     "execution_count": 37,
     "metadata": {},
     "output_type": "execute_result"
    },
    {
     "data": {
      "image/png": "[encoded data removed]",
      "text/plain": [
       "<Figure size 432x288 with 1 Axes>"
      ]
     },
     "metadata": {
      "needs_background": "light"
     },
     "output_type": "display_data"
    }
   ],
   "source": [
    "df3=Data_oil.tolist() \n",
    "df3.extend(lst_output) \n",
    "plt.plot(df3[8100:])"
   ]
  },
  {
   "cell_type": "code",
   "execution_count": 38,
   "id": "898b9747",
   "metadata": {},
   "outputs": [],
   "source": [
    "df3=scaler.inverse_transform(df3).tolist()"
   ]
  },
  {
   "cell_type": "code",
   "execution_count": 39,
   "id": "b29b88ea",
   "metadata": {},
   "outputs": [
    {
     "data": {
      "text/plain": [
       "[<matplotlib.lines.Line2D at 0x26646413520>]"
      ]
     },
     "execution_count": 39,
     "metadata": {},
     "output_type": "execute_result"
    },
    {
     "data": {
      "image/png": "[encoded data removed]",
      "text/plain": [
       "<Figure size 432x288 with 1 Axes>"
      ]
     },
     "metadata": {
      "needs_background": "light"
     },
     "output_type": "display_data"
    }
   ],
   "source": [
    "plt.plot(scaler.inverse_transform(Data_oil))"
   ]
  },
  {
   "cell_type": "code",
   "execution_count": null,
   "id": "1f4de2f4",
   "metadata": {},
   "outputs": [],
   "source": []
  },
  {
   "cell_type": "code",
   "execution_count": null,
   "id": "bca55627",
   "metadata": {},
   "outputs": [],
   "source": []
  },
  {
   "cell_type": "code",
   "execution_count": null,
   "id": "9930b6ef",
   "metadata": {},
   "outputs": [],
   "source": []
  }
 ],
 "metadata": {
  "kernelspec": {
   "display_name": "Python 3 (ipykernel)",
   "language": "python",
   "name": "python3"
  },
  "language_info": {
   "codemirror_mode": {
    "name": "ipython",
    "version": 3
   },
   "file_extension": ".py",
   "mimetype": "text/x-python",
   "name": "python",
   "nbconvert_exporter": "python",
   "pygments_lexer": "ipython3",
   "version": "3.9.12"
  }
 },
 "nbformat": 4,
 "nbformat_minor": 5
}
