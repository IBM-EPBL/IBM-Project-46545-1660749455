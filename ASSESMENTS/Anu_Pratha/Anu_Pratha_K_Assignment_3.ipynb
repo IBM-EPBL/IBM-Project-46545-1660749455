{
  "nbformat": 4,
  "nbformat_minor": 0,
  "metadata": {
    "colab": {
      "provenance": []
    },
    "kernelspec": {
      "name": "python3",
      "display_name": "Python 3"
    },
    "language_info": {
      "name": "python"
    }
  },
  "cells": [
    {
      "cell_type": "code",
      "execution_count": 1,
      "metadata": {
        "colab": {
          "base_uri": "https://localhost:8080/"
        },
        "id": "-spphYaUKUJD",
        "outputId": "9bc60384-c2d8-4dd5-b872-a006447b2c34"
      },
      "outputs": [
        {
          "output_type": "stream",
          "name": "stdout",
          "text": [
            "/content/drive/MyDrive/CNN\n"
          ]
        }
      ],
      "source": [
        "cd /content/drive/MyDrive/CNN"
      ]
    },
    {
      "cell_type": "code",
      "source": [
        "ls"
      ],
      "metadata": {
        "colab": {
          "base_uri": "https://localhost:8080/"
        },
        "id": "YgTplNwPKs0X",
        "outputId": "e743eebe-0e25-43f4-b7a7-243d3ac427da"
      },
      "execution_count": 2,
      "outputs": [
        {
          "output_type": "stream",
          "name": "stdout",
          "text": [
            "\u001b[0m\u001b[01;34mflowers\u001b[0m/  Flowers-Dataset.zip\n"
          ]
        }
      ]
    },
    {
      "cell_type": "code",
      "source": [
        "pwd"
      ],
      "metadata": {
        "colab": {
          "base_uri": "https://localhost:8080/",
          "height": 35
        },
        "id": "Fh8tgSAIKxLw",
        "outputId": "ff4b063e-e005-44cb-9b37-f01812260951"
      },
      "execution_count": 3,
      "outputs": [
        {
          "output_type": "execute_result",
          "data": {
            "text/plain": [
              "'/content/drive/MyDrive/CNN'"
            ],
            "application/vnd.google.colaboratory.intrinsic+json": {
              "type": "string"
            }
          },
          "metadata": {},
          "execution_count": 3
        }
      ]
    },
    {
      "cell_type": "code",
      "source": [
        "pip install split-folders[full]"
      ],
      "metadata": {
        "colab": {
          "base_uri": "https://localhost:8080/"
        },
        "id": "9sthY-BxK4oV",
        "outputId": "facf1fba-f595-4f3b-d523-cca9db07f565"
      },
      "execution_count": 5,
      "outputs": [
        {
          "output_type": "stream",
          "name": "stdout",
          "text": [
            "Looking in indexes: https://pypi.org/simple, https://us-python.pkg.dev/colab-wheels/public/simple/\n",
            "Collecting split-folders[full]\n",
            "  Downloading split_folders-0.5.1-py3-none-any.whl (8.4 kB)\n",
            "Requirement already satisfied: tqdm in /usr/local/lib/python3.7/dist-packages (from split-folders[full]) (4.64.1)\n",
            "Installing collected packages: split-folders\n",
            "Successfully installed split-folders-0.5.1\n"
          ]
        }
      ]
    },
    {
      "cell_type": "code",
      "source": [
        "import splitfolders"
      ],
      "metadata": {
        "id": "veT_Na28NL_R"
      },
      "execution_count": 6,
      "outputs": []
    },
    {
      "cell_type": "code",
      "source": [
        "input_folder = \"/content/drive/MyDrive/CNN/flowers\""
      ],
      "metadata": {
        "id": "JXBKklBsNXhS"
      },
      "execution_count": 8,
      "outputs": []
    },
    {
      "cell_type": "code",
      "source": [
        "splitfolders.ratio(input_folder, output = \"/content/drive/MyDrive/CNN/dataset\",\n",
        "                   seed=42, ratio = (.7,.1,.2), group_prefix = None)"
      ],
      "metadata": {
        "colab": {
          "base_uri": "https://localhost:8080/"
        },
        "id": "FeyiI9DRPk64",
        "outputId": "0d5d6b2a-a653-4ec7-a803-13cc442bfff1"
      },
      "execution_count": 11,
      "outputs": [
        {
          "output_type": "stream",
          "name": "stderr",
          "text": [
            "\n",
            "Copying files: 0 files [00:00, ? files/s]\u001b[A\n",
            "Copying files: 1 files [00:00,  4.40 files/s]\u001b[A\n",
            "Copying files: 7 files [00:00, 25.71 files/s]\u001b[A\n",
            "Copying files: 16 files [00:00, 47.29 files/s]\u001b[A\n",
            "Copying files: 25 files [00:00, 56.76 files/s]\u001b[A\n",
            "Copying files: 35 files [00:00, 68.12 files/s]\u001b[A\n",
            "Copying files: 43 files [00:00, 68.12 files/s]\u001b[A\n",
            "Copying files: 52 files [00:00, 72.45 files/s]\u001b[A\n",
            "Copying files: 61 files [00:01, 71.69 files/s]\u001b[A\n",
            "Copying files: 70 files [00:01, 76.24 files/s]\u001b[A\n",
            "Copying files: 78 files [00:01, 72.81 files/s]\u001b[A\n",
            "Copying files: 88 files [00:01, 79.09 files/s]\u001b[A\n",
            "Copying files: 97 files [00:01, 76.01 files/s]\u001b[A\n",
            "Copying files: 106 files [00:01, 79.22 files/s]\u001b[A\n",
            "Copying files: 115 files [00:01, 79.28 files/s]\u001b[A\n",
            "Copying files: 124 files [00:01, 78.52 files/s]\u001b[A\n",
            "Copying files: 132 files [00:01, 72.74 files/s]\u001b[A\n",
            "Copying files: 141 files [00:02, 75.77 files/s]\u001b[A\n",
            "Copying files: 149 files [00:02, 71.82 files/s]\u001b[A\n",
            "Copying files: 157 files [00:02, 73.53 files/s]\u001b[A\n",
            "Copying files: 165 files [00:02, 68.95 files/s]\u001b[A\n",
            "Copying files: 172 files [00:02, 65.15 files/s]\u001b[A\n",
            "Copying files: 179 files [00:02, 65.35 files/s]\u001b[A\n",
            "Copying files: 188 files [00:02, 70.23 files/s]\u001b[A\n",
            "Copying files: 196 files [00:02, 68.13 files/s]\u001b[A\n",
            "Copying files: 204 files [00:02, 70.38 files/s]\u001b[A\n",
            "Copying files: 212 files [00:03, 69.45 files/s]\u001b[A\n",
            "Copying files: 221 files [00:03, 74.45 files/s]\u001b[A\n",
            "Copying files: 229 files [00:03, 72.93 files/s]\u001b[A\n",
            "Copying files: 238 files [00:03, 75.37 files/s]\u001b[A\n",
            "Copying files: 246 files [00:03, 68.07 files/s]\u001b[A\n",
            "Copying files: 255 files [00:03, 73.08 files/s]\u001b[A\n",
            "Copying files: 263 files [00:03, 70.99 files/s]\u001b[A\n",
            "Copying files: 272 files [00:03, 75.94 files/s]\u001b[A\n",
            "Copying files: 280 files [00:04, 70.37 files/s]\u001b[A\n",
            "Copying files: 289 files [00:04, 73.93 files/s]\u001b[A\n",
            "Copying files: 297 files [00:04, 70.78 files/s]\u001b[A\n",
            "Copying files: 306 files [00:04, 70.52 files/s]\u001b[A\n",
            "Copying files: 315 files [00:04, 74.60 files/s]\u001b[A\n",
            "Copying files: 323 files [00:04, 71.60 files/s]\u001b[A\n",
            "Copying files: 332 files [00:04, 71.68 files/s]\u001b[A\n",
            "Copying files: 340 files [00:04, 68.34 files/s]\u001b[A\n",
            "Copying files: 347 files [00:05, 61.76 files/s]\u001b[A\n",
            "Copying files: 354 files [00:05, 62.32 files/s]\u001b[A\n",
            "Copying files: 1173 files [01:09, 84.32 files/s]\n",
            "Copying files: 369 files [00:05, 65.47 files/s]\u001b[A\n",
            "Copying files: 379 files [00:05, 73.10 files/s]\u001b[A\n",
            "Copying files: 387 files [00:05, 70.53 files/s]\u001b[A\n",
            "Copying files: 396 files [00:05, 74.03 files/s]\u001b[A\n",
            "Copying files: 404 files [00:05, 71.68 files/s]\u001b[A\n",
            "Copying files: 412 files [00:05, 68.79 files/s]\u001b[A\n",
            "Copying files: 421 files [00:06, 72.70 files/s]\u001b[A\n",
            "Copying files: 429 files [00:06, 70.58 files/s]\u001b[A\n",
            "Copying files: 437 files [00:06, 72.69 files/s]\u001b[A\n",
            "Copying files: 445 files [00:06, 69.96 files/s]\u001b[A\n",
            "Copying files: 453 files [00:06, 70.62 files/s]\u001b[A\n",
            "Copying files: 461 files [00:06, 68.39 files/s]\u001b[A\n",
            "Copying files: 470 files [00:06, 73.35 files/s]\u001b[A\n",
            "Copying files: 478 files [00:06, 72.02 files/s]\u001b[A\n",
            "Copying files: 487 files [00:06, 76.55 files/s]\u001b[A\n",
            "Copying files: 495 files [00:07, 72.57 files/s]\u001b[A\n",
            "Copying files: 503 files [00:07, 73.10 files/s]\u001b[A\n",
            "Copying files: 511 files [00:07, 71.83 files/s]\u001b[A\n",
            "Copying files: 519 files [00:07, 72.98 files/s]\u001b[A\n",
            "Copying files: 527 files [00:07, 71.32 files/s]\u001b[A\n",
            "Copying files: 535 files [00:07, 68.95 files/s]\u001b[A\n",
            "Copying files: 542 files [00:07, 68.95 files/s]\u001b[A\n",
            "Copying files: 551 files [00:07, 74.00 files/s]\u001b[A\n",
            "Copying files: 559 files [00:07, 73.08 files/s]\u001b[A\n",
            "Copying files: 569 files [00:08, 78.93 files/s]\u001b[A\n",
            "Copying files: 577 files [00:08, 74.68 files/s]\u001b[A\n",
            "Copying files: 586 files [00:08, 78.81 files/s]\u001b[A\n",
            "Copying files: 594 files [00:08, 77.12 files/s]\u001b[A\n",
            "Copying files: 603 files [00:08, 80.25 files/s]\u001b[A\n",
            "Copying files: 612 files [00:08, 77.22 files/s]\u001b[A\n",
            "Copying files: 622 files [00:08, 82.13 files/s]\u001b[A\n",
            "Copying files: 631 files [00:08, 77.02 files/s]\u001b[A\n",
            "Copying files: 641 files [00:08, 82.53 files/s]\u001b[A\n",
            "Copying files: 650 files [00:09, 80.22 files/s]\u001b[A\n",
            "Copying files: 659 files [00:09, 74.01 files/s]\u001b[A\n",
            "Copying files: 667 files [00:09, 73.36 files/s]\u001b[A\n",
            "Copying files: 677 files [00:09, 75.16 files/s]\u001b[A\n",
            "Copying files: 686 files [00:09, 78.75 files/s]\u001b[A\n",
            "Copying files: 695 files [00:09, 76.89 files/s]\u001b[A\n",
            "Copying files: 703 files [00:09, 76.61 files/s]\u001b[A\n",
            "Copying files: 713 files [00:09, 76.82 files/s]\u001b[A\n",
            "Copying files: 723 files [00:10, 77.94 files/s]\u001b[A\n",
            "Copying files: 731 files [00:10, 54.70 files/s]\u001b[A\n",
            "Copying files: 740 files [00:10, 61.72 files/s]\u001b[A\n",
            "Copying files: 748 files [00:10, 63.16 files/s]\u001b[A\n",
            "Copying files: 757 files [00:10, 68.10 files/s]\u001b[A\n",
            "Copying files: 765 files [00:11, 44.14 files/s]\u001b[A\n",
            "Copying files: 774 files [00:11, 52.13 files/s]\u001b[A\n",
            "Copying files: 781 files [00:11, 52.47 files/s]\u001b[A\n",
            "Copying files: 790 files [00:11, 59.62 files/s]\u001b[A\n",
            "Copying files: 799 files [00:11, 63.04 files/s]\u001b[A\n",
            "Copying files: 809 files [00:11, 70.41 files/s]\u001b[A\n",
            "Copying files: 817 files [00:11, 70.20 files/s]\u001b[A\n",
            "Copying files: 826 files [00:11, 74.98 files/s]\u001b[A\n",
            "Copying files: 834 files [00:11, 72.34 files/s]\u001b[A\n",
            "Copying files: 844 files [00:12, 77.86 files/s]\u001b[A\n",
            "Copying files: 853 files [00:12, 77.12 files/s]\u001b[A\n",
            "Copying files: 863 files [00:12, 81.68 files/s]\u001b[A\n",
            "Copying files: 872 files [00:12, 76.06 files/s]\u001b[A\n",
            "Copying files: 881 files [00:12, 79.04 files/s]\u001b[A\n",
            "Copying files: 890 files [00:12, 78.42 files/s]\u001b[A\n",
            "Copying files: 900 files [00:12, 82.14 files/s]\u001b[A\n",
            "Copying files: 909 files [00:12, 79.40 files/s]\u001b[A\n",
            "Copying files: 918 files [00:12, 76.92 files/s]\u001b[A\n",
            "Copying files: 927 files [00:13, 79.93 files/s]\u001b[A\n",
            "Copying files: 936 files [00:13, 78.77 files/s]\u001b[A\n",
            "Copying files: 945 files [00:13, 80.61 files/s]\u001b[A\n",
            "Copying files: 954 files [00:13, 78.20 files/s]\u001b[A\n",
            "Copying files: 964 files [00:13, 82.66 files/s]\u001b[A\n",
            "Copying files: 973 files [00:13, 79.34 files/s]\u001b[A\n",
            "Copying files: 982 files [00:13, 77.04 files/s]\u001b[A\n",
            "Copying files: 992 files [00:13, 82.14 files/s]\u001b[A\n",
            "Copying files: 1001 files [00:14, 77.89 files/s]\u001b[A\n",
            "Copying files: 1011 files [00:14, 83.17 files/s]\u001b[A\n",
            "Copying files: 1020 files [00:14, 81.56 files/s]\u001b[A\n",
            "Copying files: 1029 files [00:14, 80.64 files/s]\u001b[A\n",
            "Copying files: 1039 files [00:14, 84.87 files/s]\u001b[A\n",
            "Copying files: 1048 files [00:14, 81.38 files/s]\u001b[A\n",
            "Copying files: 1058 files [00:14, 84.32 files/s]\u001b[A\n",
            "Copying files: 1067 files [00:14, 77.24 files/s]\u001b[A\n",
            "Copying files: 1075 files [00:14, 73.19 files/s]\u001b[A\n",
            "Copying files: 1084 files [00:15, 77.41 files/s]\u001b[A\n",
            "Copying files: 1092 files [00:15, 74.98 files/s]\u001b[A\n",
            "Copying files: 1102 files [00:15, 79.93 files/s]\u001b[A\n",
            "Copying files: 1111 files [00:15, 78.76 files/s]\u001b[A\n",
            "Copying files: 1120 files [00:15, 76.49 files/s]\u001b[A\n",
            "Copying files: 1129 files [00:15, 80.03 files/s]\u001b[A\n",
            "Copying files: 1138 files [00:15, 76.65 files/s]\u001b[A\n",
            "Copying files: 1148 files [00:15, 81.06 files/s]\u001b[A\n",
            "Copying files: 1157 files [00:15, 74.98 files/s]\u001b[A\n",
            "Copying files: 1166 files [00:16, 75.09 files/s]\u001b[A\n",
            "Copying files: 1175 files [00:16, 78.90 files/s]\u001b[A\n",
            "Copying files: 1184 files [00:16, 77.25 files/s]\u001b[A\n",
            "Copying files: 1194 files [00:16, 81.69 files/s]\u001b[A\n",
            "Copying files: 1203 files [00:16, 79.50 files/s]\u001b[A\n",
            "Copying files: 1213 files [00:16, 78.53 files/s]\u001b[A\n",
            "Copying files: 1222 files [00:16, 80.13 files/s]\u001b[A\n",
            "Copying files: 1231 files [00:16, 76.56 files/s]\u001b[A\n",
            "Copying files: 1241 files [00:17, 81.43 files/s]\u001b[A\n",
            "Copying files: 1250 files [00:17, 78.42 files/s]\u001b[A\n",
            "Copying files: 1258 files [00:17, 75.65 files/s]\u001b[A\n",
            "Copying files: 1268 files [00:17, 80.07 files/s]\u001b[A\n",
            "Copying files: 1277 files [00:17, 78.45 files/s]\u001b[A\n",
            "Copying files: 1287 files [00:17, 82.84 files/s]\u001b[A\n",
            "Copying files: 1296 files [00:17, 79.35 files/s]\u001b[A\n",
            "Copying files: 1305 files [00:17, 74.65 files/s]\u001b[A\n",
            "Copying files: 1315 files [00:17, 78.99 files/s]\u001b[A\n",
            "Copying files: 1324 files [00:18, 77.97 files/s]\u001b[A\n",
            "Copying files: 1334 files [00:18, 81.68 files/s]\u001b[A\n",
            "Copying files: 1343 files [00:18, 78.33 files/s]\u001b[A\n",
            "Copying files: 1351 files [00:18, 76.01 files/s]\u001b[A\n",
            "Copying files: 1361 files [00:18, 80.96 files/s]\u001b[A\n",
            "Copying files: 1370 files [00:18, 80.40 files/s]\u001b[A\n",
            "Copying files: 1379 files [00:18, 78.89 files/s]\u001b[A\n",
            "Copying files: 1387 files [00:18, 76.49 files/s]\u001b[A\n",
            "Copying files: 1396 files [00:19, 75.12 files/s]\u001b[A\n",
            "Copying files: 1405 files [00:19, 79.00 files/s]\u001b[A\n",
            "Copying files: 1413 files [00:19, 75.62 files/s]\u001b[A\n",
            "Copying files: 1423 files [00:19, 80.89 files/s]\u001b[A\n",
            "Copying files: 1432 files [00:19, 64.91 files/s]\u001b[A\n",
            "Copying files: 1440 files [00:19, 66.20 files/s]\u001b[A\n",
            "Copying files: 1449 files [00:19, 70.18 files/s]\u001b[A\n",
            "Copying files: 1457 files [00:19, 70.17 files/s]\u001b[A\n",
            "Copying files: 1465 files [00:20, 69.80 files/s]\u001b[A\n",
            "Copying files: 1473 files [00:20, 71.93 files/s]\u001b[A\n",
            "Copying files: 1481 files [00:20, 72.54 files/s]\u001b[A\n",
            "Copying files: 1490 files [00:20, 77.04 files/s]\u001b[A\n",
            "Copying files: 1498 files [00:20, 72.43 files/s]\u001b[A\n",
            "Copying files: 1507 files [00:20, 77.18 files/s]\u001b[A\n",
            "Copying files: 1515 files [00:20, 75.50 files/s]\u001b[A\n",
            "Copying files: 1525 files [00:20, 81.21 files/s]\u001b[A\n",
            "Copying files: 1534 files [00:20, 78.58 files/s]\u001b[A\n",
            "Copying files: 1543 files [00:21, 76.32 files/s]\u001b[A\n",
            "Copying files: 1551 files [00:21, 77.22 files/s]\u001b[A\n",
            "Copying files: 1559 files [00:21, 75.21 files/s]\u001b[A\n",
            "Copying files: 1567 files [00:21, 73.74 files/s]\u001b[A\n",
            "Copying files: 1576 files [00:21, 77.71 files/s]\u001b[A\n",
            "Copying files: 1584 files [00:21, 76.68 files/s]\u001b[A\n",
            "Copying files: 1594 files [00:21, 77.32 files/s]\u001b[A\n",
            "Copying files: 1604 files [00:21, 82.51 files/s]\u001b[A\n",
            "Copying files: 1613 files [00:22, 53.99 files/s]\u001b[A\n",
            "Copying files: 1622 files [00:22, 60.62 files/s]\u001b[A\n",
            "Copying files: 1630 files [00:22, 63.04 files/s]\u001b[A\n",
            "Copying files: 1640 files [00:22, 70.79 files/s]\u001b[A\n",
            "Copying files: 1648 files [00:22, 71.61 files/s]\u001b[A\n",
            "Copying files: 1659 files [00:22, 79.55 files/s]\u001b[A\n",
            "Copying files: 1668 files [00:22, 79.89 files/s]\u001b[A\n",
            "Copying files: 1677 files [00:22, 82.44 files/s]\u001b[A\n",
            "Copying files: 1686 files [00:22, 76.14 files/s]\u001b[A\n",
            "Copying files: 1694 files [00:23, 76.57 files/s]\u001b[A\n",
            "Copying files: 1702 files [00:23, 77.26 files/s]\u001b[A\n",
            "Copying files: 1711 files [00:23, 76.37 files/s]\u001b[A\n",
            "Copying files: 1720 files [00:23, 79.99 files/s]\u001b[A\n",
            "Copying files: 1729 files [00:23, 78.72 files/s]\u001b[A\n",
            "Copying files: 1738 files [00:23, 81.79 files/s]\u001b[A\n",
            "Copying files: 1747 files [00:23, 76.50 files/s]\u001b[A\n",
            "Copying files: 1757 files [00:23, 81.81 files/s]\u001b[A\n",
            "Copying files: 1766 files [00:24, 78.17 files/s]\u001b[A\n",
            "Copying files: 1774 files [00:24, 78.62 files/s]\u001b[A\n",
            "Copying files: 1782 files [00:24, 76.03 files/s]\u001b[A\n",
            "Copying files: 1790 files [00:24, 73.69 files/s]\u001b[A\n",
            "Copying files: 1798 files [00:24, 71.11 files/s]\u001b[A\n",
            "Copying files: 1806 files [00:24, 68.10 files/s]\u001b[A\n",
            "Copying files: 1815 files [00:24, 72.78 files/s]\u001b[A\n",
            "Copying files: 1823 files [00:26, 16.04 files/s]\u001b[A\n",
            "Copying files: 1829 files [00:32,  3.30 files/s]\u001b[A\n",
            "Copying files: 1837 files [00:32,  4.69 files/s]\u001b[A\n",
            "Copying files: 1842 files [00:32,  5.80 files/s]\u001b[A\n",
            "Copying files: 1851 files [00:32,  8.73 files/s]\u001b[A\n",
            "Copying files: 1858 files [00:33, 11.61 files/s]\u001b[A\n",
            "Copying files: 1868 files [00:33, 17.17 files/s]\u001b[A\n",
            "Copying files: 1876 files [00:33, 21.91 files/s]\u001b[A\n",
            "Copying files: 1886 files [00:33, 29.85 files/s]\u001b[A\n",
            "Copying files: 1894 files [00:33, 35.15 files/s]\u001b[A\n",
            "Copying files: 1903 files [00:33, 43.25 files/s]\u001b[A\n",
            "Copying files: 1911 files [00:33, 48.28 files/s]\u001b[A\n",
            "Copying files: 1920 files [00:33, 56.42 files/s]\u001b[A\n",
            "Copying files: 1928 files [00:33, 59.97 files/s]\u001b[A\n",
            "Copying files: 1938 files [00:34, 68.88 files/s]\u001b[A\n",
            "Copying files: 1947 files [00:34, 70.14 files/s]\u001b[A\n",
            "Copying files: 1958 files [00:34, 74.06 files/s]\u001b[A\n",
            "Copying files: 1968 files [00:34, 78.91 files/s]\u001b[A\n",
            "Copying files: 1977 files [00:34, 75.90 files/s]\u001b[A\n",
            "Copying files: 1986 files [00:34, 79.19 files/s]\u001b[A\n",
            "Copying files: 1995 files [00:34, 76.02 files/s]\u001b[A\n",
            "Copying files: 2003 files [00:34, 73.62 files/s]\u001b[A\n",
            "Copying files: 2011 files [00:35, 72.65 files/s]\u001b[A\n",
            "Copying files: 2021 files [00:35, 78.68 files/s]\u001b[A\n",
            "Copying files: 2029 files [00:35, 75.95 files/s]\u001b[A\n",
            "Copying files: 2038 files [00:35, 77.36 files/s]\u001b[A\n",
            "Copying files: 2047 files [00:35, 80.31 files/s]\u001b[A\n",
            "Copying files: 2056 files [00:35, 78.57 files/s]\u001b[A\n",
            "Copying files: 2066 files [00:35, 82.85 files/s]\u001b[A\n",
            "Copying files: 2075 files [00:35, 79.01 files/s]\u001b[A\n",
            "Copying files: 2084 files [00:35, 77.58 files/s]\u001b[A\n",
            "Copying files: 2094 files [00:36, 82.46 files/s]\u001b[A\n",
            "Copying files: 2103 files [00:36, 78.06 files/s]\u001b[A\n",
            "Copying files: 2112 files [00:36, 76.93 files/s]\u001b[A\n",
            "Copying files: 2120 files [00:36, 73.27 files/s]\u001b[A\n",
            "Copying files: 2128 files [00:36, 73.87 files/s]\u001b[A\n",
            "Copying files: 2136 files [00:36, 66.29 files/s]\u001b[A\n",
            "Copying files: 2144 files [00:36, 65.88 files/s]\u001b[A\n",
            "Copying files: 2153 files [00:36, 70.00 files/s]\u001b[A\n",
            "Copying files: 2161 files [00:37, 71.28 files/s]\u001b[A\n",
            "Copying files: 2170 files [00:37, 76.14 files/s]\u001b[A\n",
            "Copying files: 2178 files [00:37, 70.29 files/s]\u001b[A\n",
            "Copying files: 2188 files [00:37, 76.34 files/s]\u001b[A\n",
            "Copying files: 2196 files [00:37, 74.05 files/s]\u001b[A\n",
            "Copying files: 2204 files [00:37, 74.67 files/s]\u001b[A\n",
            "Copying files: 2212 files [00:37, 71.81 files/s]\u001b[A\n",
            "Copying files: 2221 files [00:37, 75.16 files/s]\u001b[A\n",
            "Copying files: 2229 files [00:37, 71.70 files/s]\u001b[A\n",
            "Copying files: 2237 files [00:38, 71.53 files/s]\u001b[A\n",
            "Copying files: 2246 files [00:38, 75.25 files/s]\u001b[A\n",
            "Copying files: 2254 files [00:38, 74.55 files/s]\u001b[A\n",
            "Copying files: 2263 files [00:38, 78.32 files/s]\u001b[A\n",
            "Copying files: 2271 files [00:38, 75.76 files/s]\u001b[A\n",
            "Copying files: 2279 files [00:38, 72.61 files/s]\u001b[A\n",
            "Copying files: 2287 files [00:38, 70.53 files/s]\u001b[A\n",
            "Copying files: 2297 files [00:38, 77.13 files/s]\u001b[A\n",
            "Copying files: 2305 files [00:38, 74.45 files/s]\u001b[A\n",
            "Copying files: 2314 files [00:39, 74.81 files/s]\u001b[A\n",
            "Copying files: 2323 files [00:39, 77.21 files/s]\u001b[A\n",
            "Copying files: 2331 files [00:39, 75.97 files/s]\u001b[A\n",
            "Copying files: 2340 files [00:39, 78.88 files/s]\u001b[A\n",
            "Copying files: 2348 files [00:39, 74.59 files/s]\u001b[A\n",
            "Copying files: 2358 files [00:39, 80.77 files/s]\u001b[A\n",
            "Copying files: 2367 files [00:39, 76.51 files/s]\u001b[A\n",
            "Copying files: 2377 files [00:39, 76.40 files/s]\u001b[A\n",
            "Copying files: 2386 files [00:39, 78.69 files/s]\u001b[A\n",
            "Copying files: 2394 files [00:40, 76.33 files/s]\u001b[A\n",
            "Copying files: 2403 files [00:40, 78.70 files/s]\u001b[A\n",
            "Copying files: 2412 files [00:40, 76.99 files/s]\u001b[A\n",
            "Copying files: 2420 files [00:40, 77.58 files/s]\u001b[A\n",
            "Copying files: 2429 files [00:40, 75.21 files/s]\u001b[A\n",
            "Copying files: 2438 files [00:40, 77.35 files/s]\u001b[A\n",
            "Copying files: 2446 files [00:40, 70.75 files/s]\u001b[A\n",
            "Copying files: 2455 files [00:40, 74.65 files/s]\u001b[A\n",
            "Copying files: 2464 files [00:41, 74.11 files/s]\u001b[A\n",
            "Copying files: 2473 files [00:41, 77.22 files/s]\u001b[A\n",
            "Copying files: 2481 files [00:41, 74.59 files/s]\u001b[A\n",
            "Copying files: 2490 files [00:41, 78.18 files/s]\u001b[A\n",
            "Copying files: 2498 files [00:41, 77.23 files/s]\u001b[A\n",
            "Copying files: 2506 files [00:41, 73.73 files/s]\u001b[A\n",
            "Copying files: 2514 files [00:41, 68.23 files/s]\u001b[A\n",
            "Copying files: 2523 files [00:41, 73.44 files/s]\u001b[A\n",
            "Copying files: 2531 files [00:41, 71.98 files/s]\u001b[A\n",
            "Copying files: 2540 files [00:42, 76.37 files/s]\u001b[A\n",
            "Copying files: 2548 files [00:42, 75.23 files/s]\u001b[A\n",
            "Copying files: 2557 files [00:42, 79.12 files/s]\u001b[A\n",
            "Copying files: 2565 files [00:42, 60.49 files/s]\u001b[A\n",
            "Copying files: 2574 files [00:42, 67.31 files/s]\u001b[A\n",
            "Copying files: 2582 files [00:42, 67.56 files/s]\u001b[A\n",
            "Copying files: 2590 files [00:42, 69.79 files/s]\u001b[A\n",
            "Copying files: 2598 files [00:42, 68.77 files/s]\u001b[A\n",
            "Copying files: 2606 files [00:43, 20.32 files/s]\u001b[A\n",
            "Copying files: 2612 files [00:50,  3.50 files/s]\u001b[A\n",
            "Copying files: 2620 files [00:50,  4.98 files/s]\u001b[A\n",
            "Copying files: 2626 files [00:50,  6.46 files/s]\u001b[A\n",
            "Copying files: 2635 files [00:50,  9.55 files/s]\u001b[A\n",
            "Copying files: 2643 files [00:50, 13.06 files/s]\u001b[A\n",
            "Copying files: 2652 files [00:50, 18.16 files/s]\u001b[A\n",
            "Copying files: 2660 files [00:50, 23.27 files/s]\u001b[A\n",
            "Copying files: 2668 files [00:50, 29.26 files/s]\u001b[A\n",
            "Copying files: 2676 files [00:51, 35.11 files/s]\u001b[A\n",
            "Copying files: 2684 files [00:51, 41.74 files/s]\u001b[A\n",
            "Copying files: 2692 files [00:51, 47.38 files/s]\u001b[A\n",
            "Copying files: 2701 files [00:51, 55.02 files/s]\u001b[A\n",
            "Copying files: 2709 files [00:51, 58.59 files/s]\u001b[A\n",
            "Copying files: 2717 files [00:51, 60.86 files/s]\u001b[A\n",
            "Copying files: 2725 files [00:51, 61.92 files/s]\u001b[A\n",
            "Copying files: 2732 files [00:51, 63.56 files/s]\u001b[A\n",
            "Copying files: 2739 files [00:51, 60.56 files/s]\u001b[A\n",
            "Copying files: 2748 files [00:52, 66.99 files/s]\u001b[A\n",
            "Copying files: 2756 files [00:52, 65.79 files/s]\u001b[A\n",
            "Copying files: 2765 files [00:52, 70.40 files/s]\u001b[A\n",
            "Copying files: 2773 files [00:52, 68.30 files/s]\u001b[A\n",
            "Copying files: 2782 files [00:52, 71.77 files/s]\u001b[A\n",
            "Copying files: 2790 files [00:52, 56.63 files/s]\u001b[A\n",
            "Copying files: 2797 files [00:52, 57.32 files/s]\u001b[A\n",
            "Copying files: 2804 files [00:52, 57.69 files/s]\u001b[A\n",
            "Copying files: 2814 files [00:53, 67.40 files/s]\u001b[A\n",
            "Copying files: 2822 files [00:53, 67.96 files/s]\u001b[A\n",
            "Copying files: 2831 files [00:53, 73.18 files/s]\u001b[A\n",
            "Copying files: 2839 files [00:53, 73.25 files/s]\u001b[A\n",
            "Copying files: 2848 files [00:53, 71.28 files/s]\u001b[A\n",
            "Copying files: 2857 files [00:53, 75.46 files/s]\u001b[A\n",
            "Copying files: 2865 files [00:53, 72.85 files/s]\u001b[A\n",
            "Copying files: 2873 files [00:53, 74.64 files/s]\u001b[A\n",
            "Copying files: 2881 files [00:54, 68.06 files/s]\u001b[A\n",
            "Copying files: 2891 files [00:54, 76.03 files/s]\u001b[A\n",
            "Copying files: 2899 files [00:54, 74.53 files/s]\u001b[A\n",
            "Copying files: 2909 files [00:54, 79.04 files/s]\u001b[A\n",
            "Copying files: 2918 files [00:54, 75.15 files/s]\u001b[A\n",
            "Copying files: 2926 files [00:54, 74.45 files/s]\u001b[A\n",
            "Copying files: 2935 files [00:54, 77.57 files/s]\u001b[A\n",
            "Copying files: 2943 files [00:54, 74.18 files/s]\u001b[A\n",
            "Copying files: 2952 files [00:54, 77.98 files/s]\u001b[A\n",
            "Copying files: 2960 files [00:55, 73.58 files/s]\u001b[A\n",
            "Copying files: 2969 files [00:55, 76.38 files/s]\u001b[A\n",
            "Copying files: 2977 files [00:55, 74.38 files/s]\u001b[A\n",
            "Copying files: 2985 files [00:55, 72.46 files/s]\u001b[A\n",
            "Copying files: 2993 files [00:55, 70.79 files/s]\u001b[A\n",
            "Copying files: 3001 files [00:55, 73.01 files/s]\u001b[A\n",
            "Copying files: 3009 files [00:55, 71.09 files/s]\u001b[A\n",
            "Copying files: 3018 files [00:55, 71.65 files/s]\u001b[A\n",
            "Copying files: 3026 files [00:55, 70.10 files/s]\u001b[A\n",
            "Copying files: 3034 files [00:56, 66.93 files/s]\u001b[A\n",
            "Copying files: 3044 files [00:56, 74.12 files/s]\u001b[A\n",
            "Copying files: 3052 files [00:56, 72.95 files/s]\u001b[A\n",
            "Copying files: 3061 files [00:56, 76.80 files/s]\u001b[A\n",
            "Copying files: 3069 files [00:56, 70.87 files/s]\u001b[A\n",
            "Copying files: 3078 files [00:56, 74.92 files/s]\u001b[A\n",
            "Copying files: 3086 files [00:56, 73.04 files/s]\u001b[A\n",
            "Copying files: 3094 files [00:56, 71.24 files/s]\u001b[A\n",
            "Copying files: 3103 files [00:57, 75.16 files/s]\u001b[A\n",
            "Copying files: 3111 files [00:57, 72.51 files/s]\u001b[A\n",
            "Copying files: 3120 files [00:57, 76.69 files/s]\u001b[A\n",
            "Copying files: 3128 files [00:57, 73.99 files/s]\u001b[A\n",
            "Copying files: 3137 files [00:57, 77.95 files/s]\u001b[A\n",
            "Copying files: 3145 files [00:57, 75.88 files/s]\u001b[A\n",
            "Copying files: 3155 files [00:57, 80.92 files/s]\u001b[A\n",
            "Copying files: 3164 files [00:57, 74.51 files/s]\u001b[A\n",
            "Copying files: 3173 files [00:57, 76.60 files/s]\u001b[A\n",
            "Copying files: 3181 files [00:58, 70.06 files/s]\u001b[A\n",
            "Copying files: 3190 files [00:58, 73.95 files/s]\u001b[A\n",
            "Copying files: 3198 files [00:58, 58.05 files/s]\u001b[A\n",
            "Copying files: 3207 files [00:58, 64.24 files/s]\u001b[A\n",
            "Copying files: 3215 files [00:58, 65.63 files/s]\u001b[A\n",
            "Copying files: 3224 files [00:58, 70.84 files/s]\u001b[A\n",
            "Copying files: 3232 files [00:58, 71.20 files/s]\u001b[A\n",
            "Copying files: 3242 files [00:58, 77.20 files/s]\u001b[A\n",
            "Copying files: 3250 files [00:59, 75.21 files/s]\u001b[A\n",
            "Copying files: 3258 files [00:59, 76.13 files/s]\u001b[A\n",
            "Copying files: 3266 files [00:59, 69.05 files/s]\u001b[A\n",
            "Copying files: 3275 files [00:59, 74.39 files/s]\u001b[A\n",
            "Copying files: 3283 files [00:59, 72.98 files/s]\u001b[A\n",
            "Copying files: 3292 files [00:59, 76.19 files/s]\u001b[A\n",
            "Copying files: 3300 files [00:59, 71.82 files/s]\u001b[A\n",
            "Copying files: 3310 files [00:59, 73.34 files/s]\u001b[A\n",
            "Copying files: 3319 files [00:59, 76.55 files/s]\u001b[A\n",
            "Copying files: 3327 files [01:00, 74.31 files/s]\u001b[A\n",
            "Copying files: 3335 files [01:00, 28.87 files/s]\u001b[A\n",
            "Copying files: 3341 files [01:02, 10.11 files/s]\u001b[A\n",
            "Copying files: 3346 files [01:11,  2.08 files/s]\u001b[A\n",
            "Copying files: 3351 files [01:12,  2.68 files/s]\u001b[A\n",
            "Copying files: 3360 files [01:12,  4.24 files/s]\u001b[A\n",
            "Copying files: 3365 files [01:12,  5.37 files/s]\u001b[A\n",
            "Copying files: 3375 files [01:12,  8.58 files/s]\u001b[A\n",
            "Copying files: 3382 files [01:12, 11.37 files/s]\u001b[A\n",
            "Copying files: 3392 files [01:12, 16.79 files/s]\u001b[A\n",
            "Copying files: 3400 files [01:12, 21.53 files/s]\u001b[A\n",
            "Copying files: 3408 files [01:12, 27.26 files/s]\u001b[A\n",
            "Copying files: 3416 files [01:12, 32.95 files/s]\u001b[A\n",
            "Copying files: 3423 files [01:13, 34.08 files/s]\u001b[A\n",
            "Copying files: 3429 files [01:13, 36.33 files/s]\u001b[A\n",
            "Copying files: 3438 files [01:13, 45.43 files/s]\u001b[A\n",
            "Copying files: 3445 files [01:13, 48.19 files/s]\u001b[A\n",
            "Copying files: 3452 files [01:13, 44.91 files/s]\u001b[A\n",
            "Copying files: 3458 files [01:13, 34.17 files/s]\u001b[A\n",
            "Copying files: 3466 files [01:14, 41.53 files/s]\u001b[A\n",
            "Copying files: 3473 files [01:14, 46.11 files/s]\u001b[A\n",
            "Copying files: 3481 files [01:14, 53.30 files/s]\u001b[A\n",
            "Copying files: 3488 files [01:14, 55.08 files/s]\u001b[A\n",
            "Copying files: 3496 files [01:14, 58.31 files/s]\u001b[A\n",
            "Copying files: 3504 files [01:14, 59.62 files/s]\u001b[A\n",
            "Copying files: 3512 files [01:14, 63.59 files/s]\u001b[A\n",
            "Copying files: 3520 files [01:14, 64.63 files/s]\u001b[A\n",
            "Copying files: 3529 files [01:14, 69.92 files/s]\u001b[A\n",
            "Copying files: 3537 files [01:15, 70.55 files/s]\u001b[A\n",
            "Copying files: 3546 files [01:15, 75.06 files/s]\u001b[A\n",
            "Copying files: 3554 files [01:15, 73.50 files/s]\u001b[A\n",
            "Copying files: 3562 files [01:15, 74.86 files/s]\u001b[A\n",
            "Copying files: 3570 files [01:15, 67.00 files/s]\u001b[A\n",
            "Copying files: 3579 files [01:15, 71.63 files/s]\u001b[A\n",
            "Copying files: 3587 files [01:15, 71.45 files/s]\u001b[A\n",
            "Copying files: 3596 files [01:15, 75.22 files/s]\u001b[A\n",
            "Copying files: 3604 files [01:16, 72.78 files/s]\u001b[A\n",
            "Copying files: 3613 files [01:16, 76.72 files/s]\u001b[A\n",
            "Copying files: 3621 files [01:16, 72.92 files/s]\u001b[A\n",
            "Copying files: 3630 files [01:16, 77.00 files/s]\u001b[A\n",
            "Copying files: 3638 files [01:16, 70.96 files/s]\u001b[A\n",
            "Copying files: 3646 files [01:16, 70.33 files/s]\u001b[A\n",
            "Copying files: 3655 files [01:16, 74.64 files/s]\u001b[A\n",
            "Copying files: 3663 files [01:16, 72.79 files/s]\u001b[A\n",
            "Copying files: 3671 files [01:16, 73.91 files/s]\u001b[A\n",
            "Copying files: 3679 files [01:17, 72.22 files/s]\u001b[A\n",
            "Copying files: 3688 files [01:17, 76.76 files/s]\u001b[A\n",
            "Copying files: 3696 files [01:17, 74.08 files/s]\u001b[A\n",
            "Copying files: 3705 files [01:17, 77.41 files/s]\u001b[A\n",
            "Copying files: 3713 files [01:17, 74.69 files/s]\u001b[A\n",
            "Copying files: 3721 files [01:17, 76.04 files/s]\u001b[A\n",
            "Copying files: 3729 files [01:17, 74.12 files/s]\u001b[A\n",
            "Copying files: 3737 files [01:17, 72.63 files/s]\u001b[A\n",
            "Copying files: 3745 files [01:17, 73.03 files/s]\u001b[A\n",
            "Copying files: 3755 files [01:18, 75.77 files/s]\u001b[A\n",
            "Copying files: 3764 files [01:18, 79.14 files/s]\u001b[A\n",
            "Copying files: 3772 files [01:18, 77.02 files/s]\u001b[A\n",
            "Copying files: 3781 files [01:18, 79.58 files/s]\u001b[A\n",
            "Copying files: 3789 files [01:18, 76.36 files/s]\u001b[A\n",
            "Copying files: 3798 files [01:18, 78.28 files/s]\u001b[A\n",
            "Copying files: 3806 files [01:18, 74.24 files/s]\u001b[A\n",
            "Copying files: 3815 files [01:18, 78.13 files/s]\u001b[A\n",
            "Copying files: 3823 files [01:18, 74.58 files/s]\u001b[A\n",
            "Copying files: 3832 files [01:19, 75.51 files/s]\u001b[A\n",
            "Copying files: 3840 files [01:19, 73.13 files/s]\u001b[A\n",
            "Copying files: 3848 files [01:19, 72.48 files/s]\u001b[A\n",
            "Copying files: 3858 files [01:19, 79.31 files/s]\u001b[A\n",
            "Copying files: 3867 files [01:19, 76.91 files/s]\u001b[A\n",
            "Copying files: 3875 files [01:19, 76.59 files/s]\u001b[A\n",
            "Copying files: 3883 files [01:19, 72.91 files/s]\u001b[A\n",
            "Copying files: 3892 files [01:19, 76.52 files/s]\u001b[A\n",
            "Copying files: 3900 files [01:19, 75.15 files/s]\u001b[A\n",
            "Copying files: 3908 files [01:20, 74.40 files/s]\u001b[A\n",
            "Copying files: 3918 files [01:20, 80.05 files/s]\u001b[A\n",
            "Copying files: 3927 files [01:20, 77.56 files/s]\u001b[A\n",
            "Copying files: 3935 files [01:20, 72.41 files/s]\u001b[A\n",
            "Copying files: 3943 files [01:20, 72.99 files/s]\u001b[A\n",
            "Copying files: 3952 files [01:20, 75.80 files/s]\u001b[A\n",
            "Copying files: 3960 files [01:20, 73.62 files/s]\u001b[A\n",
            "Copying files: 3970 files [01:20, 75.25 files/s]\u001b[A\n",
            "Copying files: 3979 files [01:20, 79.08 files/s]\u001b[A\n",
            "Copying files: 3987 files [01:21, 75.60 files/s]\u001b[A\n",
            "Copying files: 3996 files [01:21, 77.35 files/s]\u001b[A\n",
            "Copying files: 4004 files [01:21, 66.52 files/s]\u001b[A\n",
            "Copying files: 4011 files [01:21, 65.26 files/s]\u001b[A\n",
            "Copying files: 4020 files [01:21, 71.05 files/s]\u001b[A\n",
            "Copying files: 4028 files [01:21, 68.65 files/s]\u001b[A\n",
            "Copying files: 4037 files [01:21, 73.82 files/s]\u001b[A\n",
            "Copying files: 4045 files [01:21, 71.31 files/s]\u001b[A\n",
            "Copying files: 4054 files [01:22, 74.81 files/s]\u001b[A\n",
            "Copying files: 4062 files [01:22, 73.32 files/s]\u001b[A\n",
            "Copying files: 4072 files [01:22, 79.41 files/s]\u001b[A\n",
            "Copying files: 4081 files [01:22, 78.69 files/s]\u001b[A\n",
            "Copying files: 4090 files [01:22, 80.64 files/s]\u001b[A\n",
            "Copying files: 4099 files [01:22, 79.03 files/s]\u001b[A\n",
            "Copying files: 4109 files [01:22, 83.66 files/s]\u001b[A\n",
            "Copying files: 4118 files [01:22, 80.13 files/s]\u001b[A\n",
            "Copying files: 4127 files [01:22, 75.02 files/s]\u001b[A\n",
            "Copying files: 4135 files [01:23, 28.61 files/s]\u001b[A\n",
            "Copying files: 4144 files [01:23, 36.02 files/s]\u001b[A\n",
            "Copying files: 4151 files [01:23, 40.94 files/s]\u001b[A\n",
            "Copying files: 4158 files [01:24, 45.90 files/s]\u001b[A\n",
            "Copying files: 4165 files [01:24, 50.43 files/s]\u001b[A\n",
            "Copying files: 4174 files [01:24, 59.07 files/s]\u001b[A\n",
            "Copying files: 4182 files [01:24, 62.39 files/s]\u001b[A\n",
            "Copying files: 4191 files [01:24, 67.96 files/s]\u001b[A\n",
            "Copying files: 4199 files [01:24, 68.39 files/s]\u001b[A\n",
            "Copying files: 4209 files [01:24, 74.90 files/s]\u001b[A\n",
            "Copying files: 4217 files [01:24, 74.44 files/s]\u001b[A\n",
            "Copying files: 4227 files [01:24, 79.99 files/s]\u001b[A\n",
            "Copying files: 4236 files [01:24, 78.35 files/s]\u001b[A\n",
            "Copying files: 4245 files [01:25, 80.60 files/s]\u001b[A\n",
            "Copying files: 4254 files [01:25, 78.21 files/s]\u001b[A\n",
            "Copying files: 4263 files [01:25, 75.97 files/s]\u001b[A\n",
            "Copying files: 4273 files [01:25, 80.73 files/s]\u001b[A\n",
            "Copying files: 4282 files [01:25, 79.12 files/s]\u001b[A\n",
            "Copying files: 4291 files [01:25, 80.08 files/s]\u001b[A\n",
            "Copying files: 4300 files [01:25, 77.49 files/s]\u001b[A\n",
            "Copying files: 4317 files [01:26, 50.18 files/s]\n"
          ]
        }
      ]
    },
    {
      "cell_type": "code",
      "source": [
        "#data augumentation\n",
        "from tensorflow.keras.preprocessing.image import ImageDataGenerator"
      ],
      "metadata": {
        "id": "H84QgD4JP1S0"
      },
      "execution_count": 12,
      "outputs": []
    },
    {
      "cell_type": "code",
      "source": [
        "train_datagen = ImageDataGenerator(rescale=1./255,horizontal_flip= True,vertical_flip= True,zoom_range = 0.2)"
      ],
      "metadata": {
        "id": "XB7gFIIVQwbW"
      },
      "execution_count": 18,
      "outputs": []
    },
    {
      "cell_type": "code",
      "source": [
        "test_datagen = ImageDataGenerator(rescale=1./255)"
      ],
      "metadata": {
        "id": "h12MGCf_Q1Lk"
      },
      "execution_count": 19,
      "outputs": []
    },
    {
      "cell_type": "code",
      "source": [
        "#loading training and testing data\n",
        "x_train = train_datagen.flow_from_directory(r\"/content/drive/MyDrive/CNN/dataset/train\",target_size=(64,64),\n",
        "                                            class_mode=\"categorical\",batch_size=24)"
      ],
      "metadata": {
        "colab": {
          "base_uri": "https://localhost:8080/"
        },
        "id": "Ci-0Y2jCQ_Km",
        "outputId": "06e5c71f-2298-41a5-e8a6-cb71429277f1"
      },
      "execution_count": 20,
      "outputs": [
        {
          "output_type": "stream",
          "name": "stdout",
          "text": [
            "Found 3019 images belonging to 5 classes.\n"
          ]
        }
      ]
    },
    {
      "cell_type": "code",
      "source": [
        "x_test = test_datagen.flow_from_directory(r\"/content/drive/MyDrive/CNN/dataset/test\",\n",
        "                                          target_size=(64,64),class_mode=\"categorical\",batch_size=24)"
      ],
      "metadata": {
        "colab": {
          "base_uri": "https://localhost:8080/"
        },
        "id": "rAq0idzsRfqE",
        "outputId": "464de14d-b679-41eb-ea28-26eda6bdb8c3"
      },
      "execution_count": 21,
      "outputs": [
        {
          "output_type": "stream",
          "name": "stdout",
          "text": [
            "Found 868 images belonging to 5 classes.\n"
          ]
        }
      ]
    },
    {
      "cell_type": "code",
      "source": [
        "x_valid = test_datagen.flow_from_directory(r\"/content/drive/MyDrive/CNN/dataset/val\",\n",
        "                                           target_size=(64,64),class_mode=\"categorical\",batch_size=24)"
      ],
      "metadata": {
        "colab": {
          "base_uri": "https://localhost:8080/"
        },
        "id": "reWd6T-yT970",
        "outputId": "e7b929d5-0311-4daa-e95b-441e1acb670e"
      },
      "execution_count": 35,
      "outputs": [
        {
          "output_type": "stream",
          "name": "stdout",
          "text": [
            "Found 430 images belonging to 5 classes.\n"
          ]
        }
      ]
    },
    {
      "cell_type": "code",
      "source": [
        "#Building a Model\n",
        "\n",
        "from tensorflow.keras.models import Sequential\n",
        "from tensorflow.keras.layers import Convolution2D,MaxPooling2D,Flatten,Dense"
      ],
      "metadata": {
        "id": "HNEhhEh9SU_Z"
      },
      "execution_count": 22,
      "outputs": []
    },
    {
      "cell_type": "code",
      "source": [
        "model = Sequential()"
      ],
      "metadata": {
        "id": "0pO4XlAaSblc"
      },
      "execution_count": 23,
      "outputs": []
    },
    {
      "cell_type": "code",
      "source": [
        "#convolution layer\n",
        "model.add(Convolution2D(32,(3,3),activation = \"relu\",input_shape=(64,64,3)))"
      ],
      "metadata": {
        "id": "c3b0MHmXSfxa"
      },
      "execution_count": 24,
      "outputs": []
    },
    {
      "cell_type": "code",
      "source": [
        "#maxpooling layer\n",
        "model.add(MaxPooling2D(pool_size = (2,2)))"
      ],
      "metadata": {
        "id": "u2PRVhUFSkrU"
      },
      "execution_count": 25,
      "outputs": []
    },
    {
      "cell_type": "code",
      "source": [
        "#flatten layer\n",
        "model.add(Flatten())"
      ],
      "metadata": {
        "id": "8WGbwZUdSntF"
      },
      "execution_count": 26,
      "outputs": []
    },
    {
      "cell_type": "code",
      "source": [
        "#dense-hidden layer\n",
        "model.add(Dense(300, activation = \"relu\"))"
      ],
      "metadata": {
        "id": "0krRL2WDSrab"
      },
      "execution_count": 27,
      "outputs": []
    },
    {
      "cell_type": "code",
      "source": [
        "model.add(Dense(300, activation = \"relu\"))"
      ],
      "metadata": {
        "id": "vZEf_pJQSu4F"
      },
      "execution_count": 28,
      "outputs": []
    },
    {
      "cell_type": "code",
      "source": [
        "#output layer\n",
        "model.add(Dense(5, activation = \"softmax\"))"
      ],
      "metadata": {
        "id": "l3Nk0YwyS2_k"
      },
      "execution_count": 29,
      "outputs": []
    },
    {
      "cell_type": "code",
      "source": [
        "#Compiling the model\n",
        "\n",
        "model.compile(loss = \"categorical_crossentropy\", metrics =[\"accuracy\"], optimizer ='adam')"
      ],
      "metadata": {
        "id": "DAd6nyhKS6IO"
      },
      "execution_count": 30,
      "outputs": []
    },
    {
      "cell_type": "code",
      "source": [
        "len(x_train)"
      ],
      "metadata": {
        "colab": {
          "base_uri": "https://localhost:8080/"
        },
        "id": "kY6AOV6lS90d",
        "outputId": "67f879ce-4347-4860-fd79-b3f901460772"
      },
      "execution_count": 31,
      "outputs": [
        {
          "output_type": "execute_result",
          "data": {
            "text/plain": [
              "126"
            ]
          },
          "metadata": {},
          "execution_count": 31
        }
      ]
    },
    {
      "cell_type": "code",
      "source": [
        "model.fit(x_train,epochs = 5, validation_data=x_valid, steps_per_epoch=len(x_train), validation_steps=len(x_valid))"
      ],
      "metadata": {
        "colab": {
          "base_uri": "https://localhost:8080/"
        },
        "id": "NhdFwsiLTSpx",
        "outputId": "1d81a001-b0d0-433b-c67c-bc4ebdf7bfbd"
      },
      "execution_count": 36,
      "outputs": [
        {
          "output_type": "stream",
          "name": "stdout",
          "text": [
            "Epoch 1/5\n",
            "126/126 [==============================] - 37s 289ms/step - loss: 1.3447 - accuracy: 0.4455 - val_loss: 1.4870 - val_accuracy: 0.4000\n",
            "Epoch 2/5\n",
            "126/126 [==============================] - 34s 267ms/step - loss: 1.0842 - accuracy: 0.5724 - val_loss: 1.2919 - val_accuracy: 0.5140\n",
            "Epoch 3/5\n",
            "126/126 [==============================] - 34s 266ms/step - loss: 1.0260 - accuracy: 0.6028 - val_loss: 1.1232 - val_accuracy: 0.5535\n",
            "Epoch 4/5\n",
            "126/126 [==============================] - 34s 269ms/step - loss: 0.9645 - accuracy: 0.6277 - val_loss: 1.1341 - val_accuracy: 0.5791\n",
            "Epoch 5/5\n",
            "126/126 [==============================] - 34s 272ms/step - loss: 0.9207 - accuracy: 0.6482 - val_loss: 1.2193 - val_accuracy: 0.5674\n"
          ]
        },
        {
          "output_type": "execute_result",
          "data": {
            "text/plain": [
              "<keras.callbacks.History at 0x7f616030af90>"
            ]
          },
          "metadata": {},
          "execution_count": 36
        }
      ]
    },
    {
      "cell_type": "code",
      "source": [
        "model.save(\"flower.h5\")"
      ],
      "metadata": {
        "id": "AKyylI1PTi5p"
      },
      "execution_count": 37,
      "outputs": []
    },
    {
      "cell_type": "code",
      "source": [
        "#testing the model\n",
        "\n",
        "from tensorflow.keras.models import load_model\n",
        "from tensorflow.keras.preprocessing import image\n",
        "import numpy as np"
      ],
      "metadata": {
        "id": "okXUVxOcVAwY"
      },
      "execution_count": 38,
      "outputs": []
    },
    {
      "cell_type": "code",
      "source": [
        "#load the model\n",
        "\n",
        "model = load_model(\"/content/drive/MyDrive/CNN/flower.h5\")"
      ],
      "metadata": {
        "id": "B_i3ePpIVEKd"
      },
      "execution_count": 39,
      "outputs": []
    },
    {
      "cell_type": "code",
      "source": [
        "#load the image\n",
        "img = image.load_img(\"/content/drive/MyDrive/CNN/dataset/train/sunflower/1022552002_2b93faf9e7_n.jpg\",target_size=(64,64))"
      ],
      "metadata": {
        "id": "mXm4rG-jVT20"
      },
      "execution_count": 40,
      "outputs": []
    },
    {
      "cell_type": "code",
      "source": [
        "img"
      ],
      "metadata": {
        "colab": {
          "base_uri": "https://localhost:8080/",
          "height": 81
        },
        "id": "jVcqeO-xV1Hl",
        "outputId": "c79f26ee-2f01-4ca8-f163-af0e4482b22d"
      },
      "execution_count": 41,
      "outputs": [
        {
          "output_type": "execute_result",
          "data": {
            "text/plain": [
              "<PIL.Image.Image image mode=RGB size=64x64 at 0x7F61590A1FD0>"
            ],
            "image/png": "[encoded data removed]"
          },
          "metadata": {},
          "execution_count": 41
        }
      ]
    },
    {
      "cell_type": "code",
      "source": [
        "x = image.img_to_array(img)"
      ],
      "metadata": {
        "id": "NWP5qu1ZV49O"
      },
      "execution_count": 42,
      "outputs": []
    },
    {
      "cell_type": "code",
      "source": [
        "x"
      ],
      "metadata": {
        "colab": {
          "base_uri": "https://localhost:8080/"
        },
        "id": "fhFKsoriV8c_",
        "outputId": "374f6c83-6ff1-4529-88c2-57f4305e45bc"
      },
      "execution_count": 43,
      "outputs": [
        {
          "output_type": "execute_result",
          "data": {
            "text/plain": [
              "array([[[197., 207., 234.],\n",
              "        [191., 202., 230.],\n",
              "        [194., 206., 232.],\n",
              "        ...,\n",
              "        [165., 182., 212.],\n",
              "        [159., 182., 216.],\n",
              "        [154., 174., 207.]],\n",
              "\n",
              "       [[197., 205., 228.],\n",
              "        [200., 206., 232.],\n",
              "        [203., 211., 234.],\n",
              "        ...,\n",
              "        [159., 179., 212.],\n",
              "        [160., 177., 207.],\n",
              "        [168., 185., 215.]],\n",
              "\n",
              "       [[206., 212., 234.],\n",
              "        [205., 211., 233.],\n",
              "        [207., 214., 233.],\n",
              "        ...,\n",
              "        [181., 190., 221.],\n",
              "        [164., 180., 214.],\n",
              "        [161., 180., 213.]],\n",
              "\n",
              "       ...,\n",
              "\n",
              "       [[ 89.,  96.,  65.],\n",
              "        [131., 134., 103.],\n",
              "        [124., 139., 110.],\n",
              "        ...,\n",
              "        [127., 147., 110.],\n",
              "        [154., 170., 134.],\n",
              "        [163., 178., 149.]],\n",
              "\n",
              "       [[112., 123.,  91.],\n",
              "        [152., 155., 128.],\n",
              "        [ 98.,  99.,  67.],\n",
              "        ...,\n",
              "        [126., 143., 111.],\n",
              "        [151., 164., 136.],\n",
              "        [143., 156., 128.]],\n",
              "\n",
              "       [[114., 140., 105.],\n",
              "        [ 60.,  85.,  53.],\n",
              "        [132., 126., 100.],\n",
              "        ...,\n",
              "        [152., 167., 136.],\n",
              "        [134., 148., 122.],\n",
              "        [146., 161., 128.]]], dtype=float32)"
            ]
          },
          "metadata": {},
          "execution_count": 43
        }
      ]
    },
    {
      "cell_type": "code",
      "source": [
        "#expand dimension\n",
        "\n",
        "x= np.expand_dims(x,axis=0)"
      ],
      "metadata": {
        "id": "YFzDxuacWCXN"
      },
      "execution_count": 44,
      "outputs": []
    },
    {
      "cell_type": "code",
      "source": [
        "x.ndim"
      ],
      "metadata": {
        "colab": {
          "base_uri": "https://localhost:8080/"
        },
        "id": "oma3AkgWWJBB",
        "outputId": "3b279415-a080-44d8-9bfe-94dd1c47e47d"
      },
      "execution_count": 45,
      "outputs": [
        {
          "output_type": "execute_result",
          "data": {
            "text/plain": [
              "4"
            ]
          },
          "metadata": {},
          "execution_count": 45
        }
      ]
    },
    {
      "cell_type": "code",
      "source": [
        "pred = model.predict(x)"
      ],
      "metadata": {
        "colab": {
          "base_uri": "https://localhost:8080/"
        },
        "id": "DWs5RbTsWMB3",
        "outputId": "b8561260-7e9e-49c9-a4a1-dd6712066c06"
      },
      "execution_count": 46,
      "outputs": [
        {
          "output_type": "stream",
          "name": "stdout",
          "text": [
            "1/1 [==============================] - 0s 119ms/step\n"
          ]
        }
      ]
    },
    {
      "cell_type": "code",
      "source": [
        "labels = [\"daisy\",\"dandelion\",\"rose\",\"sunflower\",\"tulip\"]"
      ],
      "metadata": {
        "id": "klXaHpqJWO7g"
      },
      "execution_count": 47,
      "outputs": []
    },
    {
      "cell_type": "code",
      "source": [
        "labels[np.argmax(pred)]"
      ],
      "metadata": {
        "colab": {
          "base_uri": "https://localhost:8080/",
          "height": 35
        },
        "id": "p_lnakYQWTrS",
        "outputId": "980dbf24-975b-452f-9461-fb0526c99d2c"
      },
      "execution_count": 48,
      "outputs": [
        {
          "output_type": "execute_result",
          "data": {
            "text/plain": [
              "'sunflower'"
            ],
            "application/vnd.google.colaboratory.intrinsic+json": {
              "type": "string"
            }
          },
          "metadata": {},
          "execution_count": 48
        }
      ]
    },
    {
      "cell_type": "code",
      "source": [],
      "metadata": {
        "id": "bPiKvxTCWXFu"
      },
      "execution_count": null,
      "outputs": []
    }
  ]
}